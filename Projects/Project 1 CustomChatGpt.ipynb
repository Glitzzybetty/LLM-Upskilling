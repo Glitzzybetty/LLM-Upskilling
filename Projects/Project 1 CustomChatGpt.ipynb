{
 "cells": [
  {
   "cell_type": "markdown",
   "id": "b1dba349-b02e-464a-b9b6-156e18a8fedb",
   "metadata": {},
   "source": [
    "## Custom ChatGPT App with LangChain"
   ]
  },
  {
   "cell_type": "code",
   "execution_count": 1,
   "id": "1c67d1e4-5d91-4478-be82-47b2462940fc",
   "metadata": {},
   "outputs": [
    {
     "data": {
      "text/plain": [
       "True"
      ]
     },
     "execution_count": 1,
     "metadata": {},
     "output_type": "execute_result"
    }
   ],
   "source": [
    "from dotenv import load_dotenv, find_dotenv\n",
    "load_dotenv(find_dotenv(), override=True)"
   ]
  },
  {
   "cell_type": "code",
   "execution_count": 3,
   "id": "1465ae9c-235b-4f62-af5b-f4f0888f92cf",
   "metadata": {},
   "outputs": [
    {
     "name": "stdin",
     "output_type": "stream",
     "text": [
      "Your prompt:  Paris is ...\n"
     ]
    },
    {
     "name": "stdout",
     "output_type": "stream",
     "text": [
      "the capital and largest city of France. It is known for its iconic landmarks such as the Eiffel Tower, Louvre Museum, Notre-Dame Cathedral, and the Champs-Élysées. Paris is also celebrated for its architectural beauty, rich history, world-class cuisine, fashion, and art. It is often referred to as the \"City of Love\" and attracts millions of tourists every year.\n",
      "--------------------------------------------------\n"
     ]
    },
    {
     "name": "stdin",
     "output_type": "stream",
     "text": [
      "Your prompt:  Erio Ekiti is ...\n"
     ]
    },
    {
     "name": "stdout",
     "output_type": "stream",
     "text": [
      "Ekiti is a state in southwestern Nigeria, and Erio Ekiti is a town located in this state. It is known for its rich cultural heritage and historical significance. The town has a population of people engaged in various occupations, including farming, trading, and civil service. Erio Ekiti also has a strong sense of community and is home to several landmarks and tourist attractions.\n",
      "--------------------------------------------------\n"
     ]
    },
    {
     "name": "stdin",
     "output_type": "stream",
     "text": [
      "Your prompt:  It population is ...\n"
     ]
    },
    {
     "name": "stdout",
     "output_type": "stream",
     "text": [
      "The word \"it\" in your sentence does not specify what population you are referring to. Could you please provide more context or clarify your question?\n",
      "--------------------------------------------------\n"
     ]
    },
    {
     "name": "stdin",
     "output_type": "stream",
     "text": [
      "Your prompt:  Its population is ...\n"
     ]
    },
    {
     "name": "stdout",
     "output_type": "stream",
     "text": [
      "I'm sorry, but your statement is incomplete. Could you please provide more information or context?\n",
      "--------------------------------------------------\n"
     ]
    },
    {
     "name": "stdin",
     "output_type": "stream",
     "text": [
      "Your prompt:  Erio Ekiti Population is ...\n"
     ]
    },
    {
     "name": "stdout",
     "output_type": "stream",
     "text": [
      "The population of Erio Ekiti would depend on the most recent data available. I'm sorry, but as an AI, I don't have access to real-time information. You may need to check with official sources, such as the local government or statistical agencies, for the latest population figures of Erio Ekiti.\n",
      "--------------------------------------------------\n"
     ]
    },
    {
     "name": "stdin",
     "output_type": "stream",
     "text": [
      "Your prompt:  Tell me little about its history\n"
     ]
    },
    {
     "name": "stdout",
     "output_type": "stream",
     "text": [
      "Sure! Chatbots have a fascinating history that dates back to the mid-20th century. The first chatbot, known as ELIZA, was created in the 1960s by Joseph Weizenbaum. ELIZA simulated a conversation by using simple pattern matching techniques. It was designed to imitate a psychotherapist and had the ability to respond to prompts with pre-programmed responses.\n",
      "\n",
      "In the 1970s, PARRY was developed by Kenneth Colby, which simulated a person with paranoid schizophrenia. PARRY attempted to pass the Turing Test, a measure of a machine's ability to exhibit intelligent behavior indistinguishable from that of a human.\n",
      "\n",
      "Another notable chatbot is A.L.I.C.E (Artificial Linguistic Internet Computer Entity), created by Richard Wallace in 1995. A.L.I.C.E was designed to win the Loebner Prize, an annual competition that tests the Turing Test. It utilized natural language processing techniques to generate human-like responses.\n",
      "\n",
      "In recent years, advancements in artificial intelligence and machine learning have greatly improved chatbot capabilities. With the advent of deep learning and neural networks, chatbots can now understand and respond to more complex queries, making them increasingly useful in various industries, including customer service, virtual assistants, and even therapy.\n",
      "\n",
      "Today, chatbots continue to evolve and are becoming an integral part of our daily lives, helping us with tasks, providing information, and delivering personalized experiences.\n",
      "--------------------------------------------------\n"
     ]
    },
    {
     "name": "stdin",
     "output_type": "stream",
     "text": [
      "Your prompt:  exit\n"
     ]
    },
    {
     "name": "stdout",
     "output_type": "stream",
     "text": [
      "Goodbye!\n"
     ]
    }
   ],
   "source": [
    "from langchain.chat_models import ChatOpenAI\n",
    "from langchain.schema import SystemMessage\n",
    "from langchain.chains import LLMChain\n",
    "from langchain.prompts import ChatPromptTemplate, HumanMessagePromptTemplate\n",
    "\n",
    "llm = ChatOpenAI(model_name='gpt-3.5-turbo', temperature=1)\n",
    "\n",
    "#create prompt instance\n",
    "\n",
    "prompt = ChatPromptTemplate(\n",
    "    input_variables=['content'],\n",
    "    messages=[  # system message can be change to \"respond only in spanish\" for instance\n",
    "        SystemMessage(content='You are chatbot having conversation with a human.'),\n",
    "        HumanMessagePromptTemplate.from_template('{content}')\n",
    "    ]\n",
    "        )\n",
    "\n",
    "chain = LLMChain(\n",
    "    llm=llm,\n",
    "    prompt=prompt,\n",
    "    verbose=False # setting verbose to true makes you see how the reponse comes in \n",
    ")\n",
    "\n",
    "while True:\n",
    "    content = input('Your prompt: ')\n",
    "    if content in ['quit', 'exit', 'bye']:\n",
    "        print('Goodbye!')\n",
    "        break\n",
    "\n",
    "    response = chain.run({'content' : content})\n",
    "    print(response)\n",
    "    print('-' * 50)"
   ]
  },
  {
   "cell_type": "markdown",
   "id": "c3bbb727-55f2-4f9b-925a-22a07abf16a5",
   "metadata": {},
   "source": [
    "## Adding Chat Memory to ChatGPT"
   ]
  },
  {
   "cell_type": "code",
   "execution_count": 6,
   "id": "4a6765f2-8e71-4792-9c20-c51310728ad8",
   "metadata": {},
   "outputs": [
    {
     "name": "stdin",
     "output_type": "stream",
     "text": [
      "Your prompt:  Earth mass is ...\n"
     ]
    },
    {
     "name": "stdout",
     "output_type": "stream",
     "text": [
      "The Earth's mass refers to the total amount of matter contained within the Earth. It is a measure of the quantity of material that makes up the planet. The mass of the Earth is roughly 5.97 x 10^24 kilograms (or 5,970,000,000,000,000,000,000,000 kilograms).\n",
      "--------------------------------------------------\n"
     ]
    },
    {
     "name": "stdin",
     "output_type": "stream",
     "text": [
      "Your prompt:  and its diameter is ..\n"
     ]
    },
    {
     "name": "stdout",
     "output_type": "stream",
     "text": [
      "The diameter of the Earth is approximately 12,742 kilometers (7,918 miles) at the equator and around 12,714 kilometers (7,901 miles) from pole to pole. This measurement represents the widest distance across the Earth when measured through its center.\n",
      "--------------------------------------------------\n"
     ]
    },
    {
     "name": "stdin",
     "output_type": "stream",
     "text": [
      "Your prompt:  10 + 10\n"
     ]
    },
    {
     "name": "stdout",
     "output_type": "stream",
     "text": [
      "The sum of 10 + 10 is 20.\n",
      "--------------------------------------------------\n"
     ]
    },
    {
     "name": "stdin",
     "output_type": "stream",
     "text": [
      "Your prompt:  times 40\n"
     ]
    },
    {
     "name": "stdout",
     "output_type": "stream",
     "text": [
      "20 times 40 is equal to 800.\n",
      "--------------------------------------------------\n"
     ]
    },
    {
     "name": "stdin",
     "output_type": "stream",
     "text": [
      "Your prompt:  What questions did I ask\n"
     ]
    },
    {
     "name": "stdout",
     "output_type": "stream",
     "text": [
      "You asked about the Earth's mass, its diameter, and a basic arithmetic question (10 + 10 times 40).\n",
      "--------------------------------------------------\n"
     ]
    },
    {
     "name": "stdin",
     "output_type": "stream",
     "text": [
      "Your prompt:  exit\n"
     ]
    },
    {
     "name": "stdout",
     "output_type": "stream",
     "text": [
      "Goodbye!\n"
     ]
    }
   ],
   "source": [
    "from langchain.chat_models import ChatOpenAI\n",
    "from langchain.schema import SystemMessage\n",
    "from langchain.chains import LLMChain\n",
    "#1. imports\n",
    "from langchain.prompts import ChatPromptTemplate, HumanMessagePromptTemplate, MessagesPlaceholder\n",
    "from langchain.memory import ConversationBufferMemory\n",
    "\n",
    "llm = ChatOpenAI(model_name='gpt-3.5-turbo', temperature=1)\n",
    "\n",
    "#2. memory object\n",
    "memory = ConversationBufferMemory(\n",
    "    memory_key='chat_history',\n",
    "    return_messages = True   \n",
    ")\n",
    "\n",
    "#3\n",
    "#create prompt instance\n",
    "\n",
    "prompt = ChatPromptTemplate(\n",
    "    input_variables=['content'],\n",
    "    messages=[  # system message can be change to \"respond only in spanish\" for instance\n",
    "        SystemMessage(content='You are chatbot having conversation with a human.'),\n",
    "        MessagesPlaceholder(variable_name='chat_history'), #where the memory will be stored\n",
    "        HumanMessagePromptTemplate.from_template('{content}')\n",
    "    ]\n",
    "        )\n",
    "# 4\n",
    "chain = LLMChain(\n",
    "    llm=llm,\n",
    "    prompt=prompt,\n",
    "    memory=memory,\n",
    "    verbose=False # setting verbose to true makes you see how the reponse comes in \n",
    ")\n",
    "\n",
    "while True:\n",
    "    content = input('Your prompt: ')\n",
    "    if content in ['quit', 'exit', 'bye']:\n",
    "        print('Goodbye!')\n",
    "        break\n",
    "\n",
    "    response = chain.run({'content' : content})\n",
    "    print(response)\n",
    "    print('-' * 50)"
   ]
  },
  {
   "cell_type": "markdown",
   "id": "95dbb407-44f3-49b7-b31c-8c54e4289ef6",
   "metadata": {},
   "source": [
    "### Saving Message History"
   ]
  },
  {
   "cell_type": "code",
   "execution_count": 10,
   "id": "7b9e2177-d6a7-4975-8b25-7c68e0d50de1",
   "metadata": {},
   "outputs": [
    {
     "name": "stdin",
     "output_type": "stream",
     "text": [
      "Your prompt:  How long does it takes to travel from sun to earth\n"
     ]
    },
    {
     "name": "stdout",
     "output_type": "stream",
     "text": [
      "\n",
      "\n",
      "\u001b[1m> Entering new LLMChain chain...\u001b[0m\n",
      "Prompt after formatting:\n",
      "\u001b[32;1m\u001b[1;3mSystem: You are chatbot having conversation with a human.\n",
      "Human: lightspeed in vacuum ..\n",
      "AI: In a vacuum, the speed of light is constant and is approximated to be about 299,792 kilometers per second, which is commonly rounded to 300,000 kilometers per second for simplicity. This speed is denoted by the symbol \"c\" and is a fundamental constant in physics. It is the fastest possible speed in the universe.\n",
      "Human: how about in water\n",
      "AI: The speed of light in water is slower than in a vacuum. The actual speed depends on various factors, including the temperature, salinity, and pressure of the water. On average, the speed of light in water is about 225,000 kilometers per second, which is approximately 75% of the speed of light in a vacuum. This reduction in speed is due to the interaction of light with the water molecules, which causes it to slow down.\n",
      "Human: How long does it takes to travel from sun to earth\u001b[0m\n",
      "\n",
      "\u001b[1m> Finished chain.\u001b[0m\n",
      "The distance between the Sun and Earth is approximately 149.6 million kilometers on average. \n",
      "\n",
      "Since light travels at a speed of about 299,792 kilometers per second in a vacuum, we can calculate the time it takes for light to travel from the Sun to Earth using the formula \"time = distance / speed\".\n",
      "\n",
      "Applying the formula, we get:\n",
      "Time = 149,600,000 kilometers / 299,792 kilometers per second\n",
      "\n",
      "This comes out to be approximately 499.0 seconds, or about 8 minutes and 19 seconds.\n",
      "\n",
      "Therefore, it takes approximately 8 minutes and 19 seconds for sunlight to travel from the Sun to Earth.\n",
      "--------------------------------------------------\n"
     ]
    },
    {
     "name": "stdin",
     "output_type": "stream",
     "text": [
      "Your prompt:  What did i ask you\n"
     ]
    },
    {
     "name": "stdout",
     "output_type": "stream",
     "text": [
      "\n",
      "\n",
      "\u001b[1m> Entering new LLMChain chain...\u001b[0m\n",
      "Prompt after formatting:\n",
      "\u001b[32;1m\u001b[1;3mSystem: You are chatbot having conversation with a human.\n",
      "Human: lightspeed in vacuum ..\n",
      "AI: In a vacuum, the speed of light is constant and is approximated to be about 299,792 kilometers per second, which is commonly rounded to 300,000 kilometers per second for simplicity. This speed is denoted by the symbol \"c\" and is a fundamental constant in physics. It is the fastest possible speed in the universe.\n",
      "Human: how about in water\n",
      "AI: The speed of light in water is slower than in a vacuum. The actual speed depends on various factors, including the temperature, salinity, and pressure of the water. On average, the speed of light in water is about 225,000 kilometers per second, which is approximately 75% of the speed of light in a vacuum. This reduction in speed is due to the interaction of light with the water molecules, which causes it to slow down.\n",
      "Human: How long does it takes to travel from sun to earth\n",
      "AI: The distance between the Sun and Earth is approximately 149.6 million kilometers on average. \n",
      "\n",
      "Since light travels at a speed of about 299,792 kilometers per second in a vacuum, we can calculate the time it takes for light to travel from the Sun to Earth using the formula \"time = distance / speed\".\n",
      "\n",
      "Applying the formula, we get:\n",
      "Time = 149,600,000 kilometers / 299,792 kilometers per second\n",
      "\n",
      "This comes out to be approximately 499.0 seconds, or about 8 minutes and 19 seconds.\n",
      "\n",
      "Therefore, it takes approximately 8 minutes and 19 seconds for sunlight to travel from the Sun to Earth.\n",
      "Human: What did i ask you\u001b[0m\n",
      "\n",
      "\u001b[1m> Finished chain.\u001b[0m\n",
      "Apologies for the misunderstanding. You asked how long it takes to travel from the Sun to Earth. The answer provided was regarding the travel time of light from the Sun to Earth. If you were referring to actual physical travel time for a spacecraft or object, it would depend on the speed of the spacecraft and the trajectory taken. Currently, it takes spacecraft like NASA's Parker Solar Probe or the ESA's Solar Orbiter several years to reach the Sun due to the complexity of the mission and the need for gravity-assist maneuvers to reach the desired orbit.\n",
      "--------------------------------------------------\n"
     ]
    },
    {
     "name": "stdin",
     "output_type": "stream",
     "text": [
      "Your prompt:  Tell me all the questions I asked you\n"
     ]
    },
    {
     "name": "stdout",
     "output_type": "stream",
     "text": [
      "\n",
      "\n",
      "\u001b[1m> Entering new LLMChain chain...\u001b[0m\n",
      "Prompt after formatting:\n",
      "\u001b[32;1m\u001b[1;3mSystem: You are chatbot having conversation with a human.\n",
      "Human: lightspeed in vacuum ..\n",
      "AI: In a vacuum, the speed of light is constant and is approximated to be about 299,792 kilometers per second, which is commonly rounded to 300,000 kilometers per second for simplicity. This speed is denoted by the symbol \"c\" and is a fundamental constant in physics. It is the fastest possible speed in the universe.\n",
      "Human: how about in water\n",
      "AI: The speed of light in water is slower than in a vacuum. The actual speed depends on various factors, including the temperature, salinity, and pressure of the water. On average, the speed of light in water is about 225,000 kilometers per second, which is approximately 75% of the speed of light in a vacuum. This reduction in speed is due to the interaction of light with the water molecules, which causes it to slow down.\n",
      "Human: How long does it takes to travel from sun to earth\n",
      "AI: The distance between the Sun and Earth is approximately 149.6 million kilometers on average. \n",
      "\n",
      "Since light travels at a speed of about 299,792 kilometers per second in a vacuum, we can calculate the time it takes for light to travel from the Sun to Earth using the formula \"time = distance / speed\".\n",
      "\n",
      "Applying the formula, we get:\n",
      "Time = 149,600,000 kilometers / 299,792 kilometers per second\n",
      "\n",
      "This comes out to be approximately 499.0 seconds, or about 8 minutes and 19 seconds.\n",
      "\n",
      "Therefore, it takes approximately 8 minutes and 19 seconds for sunlight to travel from the Sun to Earth.\n",
      "Human: What did i ask you\n",
      "AI: Apologies for the misunderstanding. You asked how long it takes to travel from the Sun to Earth. The answer provided was regarding the travel time of light from the Sun to Earth. If you were referring to actual physical travel time for a spacecraft or object, it would depend on the speed of the spacecraft and the trajectory taken. Currently, it takes spacecraft like NASA's Parker Solar Probe or the ESA's Solar Orbiter several years to reach the Sun due to the complexity of the mission and the need for gravity-assist maneuvers to reach the desired orbit.\n",
      "Human: Tell me all the questions I asked you\u001b[0m\n",
      "\n",
      "\u001b[1m> Finished chain.\u001b[0m\n",
      "Certainly! Here are the questions you asked me in our conversation:\n",
      "\n",
      "1. \"lightspeed in vacuum..\"\n",
      "2. \"how about in water?\"\n",
      "3. \"How long does it take to travel from the Sun to Earth?\"\n",
      "\n",
      "Is there anything else you would like to ask or discuss?\n",
      "--------------------------------------------------\n"
     ]
    },
    {
     "name": "stdin",
     "output_type": "stream",
     "text": [
      "Your prompt:  quit\n"
     ]
    },
    {
     "name": "stdout",
     "output_type": "stream",
     "text": [
      "Goodbye!\n"
     ]
    }
   ],
   "source": [
    "from langchain.chat_models import ChatOpenAI\n",
    "from langchain.schema import SystemMessage\n",
    "from langchain.chains import LLMChain\n",
    "#1. imports\n",
    "from langchain.prompts import ChatPromptTemplate, HumanMessagePromptTemplate, MessagesPlaceholder\n",
    "from langchain.memory import ConversationBufferMemory, FileChatMessageHistory\n",
    "\n",
    "llm = ChatOpenAI(model_name='gpt-3.5-turbo', temperature=1)\n",
    "\n",
    "#2. memory object\n",
    "history = FileChatMessageHistory('chat_history.json')\n",
    "memory = ConversationBufferMemory(\n",
    "    memory_key='chat_history',\n",
    "    chat_memory=history,\n",
    "    return_messages = True   \n",
    ")\n",
    "\n",
    "#3\n",
    "#create prompt instance\n",
    "\n",
    "prompt = ChatPromptTemplate(\n",
    "    input_variables=['content'],\n",
    "    messages=[  # system message can be change to \"respond only in spanish\" for instance\n",
    "        SystemMessage(content='You are chatbot having conversation with a human.'),\n",
    "        MessagesPlaceholder(variable_name='chat_history'), #where the memory will be stored\n",
    "        HumanMessagePromptTemplate.from_template('{content}')\n",
    "    ]\n",
    "        )\n",
    "# 4\n",
    "chain = LLMChain(\n",
    "    llm=llm,\n",
    "    prompt=prompt,\n",
    "    memory=memory,\n",
    "    verbose=True # setting verbose to true makes you see how the reponse comes in \n",
    ")\n",
    "\n",
    "while True:\n",
    "    content = input('Your prompt: ')\n",
    "    if content in ['quit', 'exit', 'bye']:\n",
    "        print('Goodbye!')\n",
    "        break\n",
    "\n",
    "    response = chain.run({'content' : content})\n",
    "    print(response)\n",
    "    print('-' * 50)"
   ]
  },
  {
   "cell_type": "code",
   "execution_count": null,
   "id": "698957ae-3869-453a-a692-55e387312b07",
   "metadata": {},
   "outputs": [],
   "source": [
    "## check this documention to see how to put chats in db\\\n",
    "#https://python.langchain.com/docs/integrations/memory\n",
    "#https://python.langchain.com/docs/modules/memory\n",
    "#https://python.langchain.com/docs/integrations/memory/sql_chat_message_history"
   ]
  }
 ],
 "metadata": {
  "kernelspec": {
   "display_name": "Python 3 (ipykernel)",
   "language": "python",
   "name": "python3"
  },
  "language_info": {
   "codemirror_mode": {
    "name": "ipython",
    "version": 3
   },
   "file_extension": ".py",
   "mimetype": "text/x-python",
   "name": "python",
   "nbconvert_exporter": "python",
   "pygments_lexer": "ipython3",
   "version": "3.10.4"
  }
 },
 "nbformat": 4,
 "nbformat_minor": 5
}
