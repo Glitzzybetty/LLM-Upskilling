{
 "cells": [
  {
   "cell_type": "code",
   "execution_count": 11,
   "id": "512b57ec-10d1-46c2-acfa-7052eb85ab57",
   "metadata": {},
   "outputs": [],
   "source": [
    "#materials\n",
    "#https://python.langchain.com/docs/modules/data_connection/document_loaders"
   ]
  },
  {
   "cell_type": "markdown",
   "id": "490d8b19-e433-4adc-9f8b-d955b0ee492a",
   "metadata": {},
   "source": [
    "## PROJECT: Question-Answering on Private Documents"
   ]
  },
  {
   "cell_type": "code",
   "execution_count": 1,
   "id": "61647b8d-ab88-44de-994a-8d9389cedcb1",
   "metadata": {},
   "outputs": [
    {
     "data": {
      "text/plain": [
       "True"
      ]
     },
     "execution_count": 1,
     "metadata": {},
     "output_type": "execute_result"
    }
   ],
   "source": [
    "import os \n",
    "from dotenv import load_dotenv, find_dotenv\n",
    "load_dotenv(find_dotenv(), override = True)"
   ]
  },
  {
   "cell_type": "code",
   "execution_count": 2,
   "id": "a34251c7-0ca4-4f3a-8ba6-fa4420927f1d",
   "metadata": {},
   "outputs": [],
   "source": [
    "#pip install pypdf"
   ]
  },
  {
   "cell_type": "code",
   "execution_count": 3,
   "id": "3e90584e-b3cc-4fc3-9c1c-5bdda01a2601",
   "metadata": {},
   "outputs": [],
   "source": [
    "#pip install Docx2txt -q"
   ]
  },
  {
   "cell_type": "markdown",
   "id": "78f36bdf-6436-4f79-8ae0-a91cf142145c",
   "metadata": {},
   "source": [
    "## PDF Loader only"
   ]
  },
  {
   "cell_type": "code",
   "execution_count": 2,
   "id": "842c08d7-6ede-4b09-8557-554ebb4916b3",
   "metadata": {},
   "outputs": [],
   "source": [
    "### ensuring code is modular, start by defining a function\n",
    "## defining a funtion that only loads pdfs\n",
    "def load_document_pdf(file):\n",
    "    #takes pdf file and return it text\n",
    "    from langchain.document_loaders import PyPDFLoader\n",
    "    print(f'Loading {file}') ## leaving a message for the user\n",
    "    loader = PyPDFLoader(file)\n",
    "    data = loader.load()\n",
    "    return data"
   ]
  },
  {
   "cell_type": "code",
   "execution_count": 3,
   "id": "898c4a81-8646-4c82-8e4f-a67155bb197f",
   "metadata": {},
   "outputs": [
    {
     "name": "stdout",
     "output_type": "stream",
     "text": [
      "Loading files/us_constitution.pdf\n",
      "C O N S T I T U T I O N O F T H E U N I T E D S T A T E S  DELAWARE  \n",
      "Geo:  Read \n",
      "Gunning Bedford  jun \n",
      "John Dickinson \n",
      "Richard Bassett  \n",
      "Jaco: Broom  \n",
      "MARYLAND  \n",
      "James  McHenry  \n",
      "Dan of St. Thos.  Jenifer \n",
      "Danl Carroll  \n",
      "VIRGINIA  \n",
      "John Blair - \n",
      "James  Madison  Jr. \n",
      "NORTH  CAROLINA  \n",
      "Wm.  Blount  \n",
      "Richd.  Dobbs  Spaight \n",
      "Hu Williamson  \n",
      "SOUTH  CAROLINA  \n",
      "J. Rutledge  \n",
      "Charles  Cotesworth  Pinckney \n",
      "Charles Pinckney  \n",
      "Pierce Butler  \n",
      "GEORGIA  \n",
      "William  Few \n",
      "Abr Baldwin  \n",
      " \n",
      "Attest  William  Jackson Secretary  In Convention Monday \n",
      "September 17th, 1787. \n",
      "Present  \n",
      "The States  of \n",
      "New  Hampshire,  Massachusetts,  Connecticut,  Mr. Ham - \n",
      "ilton from  New York, New Jersey, Pennsylvania, Delaware, \n",
      "Maryland, Virginia, North Carolina, South Carolina and Georgia.\n",
      " \n",
      "Resolved,  \n",
      "That the preceeding Constitution be laid before the United \n",
      "States  in Congress  assembled,  and that it is the Opinion \n",
      "of this Convention, that it should afterwards be submitted  \n",
      "to a Convention of Delegates, chosen in each State by the \n",
      "People thereof, under the Recommendation of its Legisla - \n",
      "ture, for their Assent and Ratification; and that each Con-  \n",
      "vention assenting to, and ratifying the Same, should give Notice thereof to the United S tates in Congress assembled. \n",
      "Resolved, That  it is the Opinion of this Convention, that \n",
      "as soon as the Conventions of nine States shall have ratified this Constitution, the United States in Congress assembled \n",
      "should fix a Day on which Electors should be appointed by \n",
      "the States which shall have ratified the same, and a Day on which the Electors should assemble to vote for the Presi - \n",
      "dent, and the  Time and Place for commencing Proceedings \n",
      "under this Constitution  \n",
      "That after such Publication the Electors should be ap-  \n",
      "pointed, and the Senators and Representatives elected: That the Electors should meet on the Day fixed for the Election \n",
      "of the President, and should transmit their Votes certified, \n",
      "signed, sealed and directed, as the Constitution requires, to the Secretary of the United States in Congress assembled, \n",
      "that the Senators and Representatives should convene at the Time  and Place  assigned;  that the Senators  should  appoint \n",
      "a President of the Senate, for the sole  Purpose of receiving, \n",
      "opening and counting the Votes for President; and, that  \n",
      "after he shall be chosen, the Congress, together with the President, should, without Delay, proceed to execute this \n",
      "Constitution  \n",
      "By the unanimous  Order of the Convention  \n",
      "Go. Washington- Presidt:  \n",
      "W. JACKSON  Secretary.  \n",
      " \n",
      "* Language  in brackets  has been changed  by amendment.  \n"
     ]
    }
   ],
   "source": [
    "## testing pdf loader function\n",
    "data = load_document_pdf('files/us_constitution.pdf')\n",
    "# using indexes to print pages e.g.\n",
    "print(data[10].page_content)"
   ]
  },
  {
   "cell_type": "code",
   "execution_count": 5,
   "id": "8464725e-22da-4e6c-bcdb-f1ea15a214f1",
   "metadata": {},
   "outputs": [
    {
     "name": "stdout",
     "output_type": "stream",
     "text": [
      "{'source': 'files/us_constitution.pdf', 'page': 1}\n"
     ]
    }
   ],
   "source": [
    "## to see metadata of pages e.g pg 1\n",
    "print(data[1].metadata)"
   ]
  },
  {
   "cell_type": "markdown",
   "id": "43ead703-287d-451a-ad41-ebc33188cdc5",
   "metadata": {},
   "source": [
    "## Other Transform loaders"
   ]
  },
  {
   "cell_type": "code",
   "execution_count": 50,
   "id": "725f9d8c-1fe2-4134-8c49-ff1428132ca9",
   "metadata": {},
   "outputs": [],
   "source": [
    "## defining a function that loads both pdfs and document, more ext can be added, e.g. csv, ht\n",
    "def load_document(file):\n",
    "    import os\n",
    "    name, extension = os.path.splitext(file)\n",
    "\n",
    "    if extension == '.pdf':\n",
    "        from langchain.document_loaders import PyPDFLoader\n",
    "        print(f'Loading {file}') ## leaving a message for the user\n",
    "        loader = PyPDFLoader(file)\n",
    "    elif extension == '.docx':\n",
    "        from langchain.document_loaders import Docx2txtLoader\n",
    "        print(f'Loading {file}') ## leaving a message for the user\n",
    "        loader = Docx2txtLoader(file)\n",
    "    else:\n",
    "        print('Document format is not supported!')\n",
    "        return None\n",
    "        \n",
    "    data = loader.load()\n",
    "    return data"
   ]
  },
  {
   "cell_type": "code",
   "execution_count": 7,
   "id": "adaad00d-54d5-4d28-b171-7725827d5d56",
   "metadata": {},
   "outputs": [
    {
     "name": "stdout",
     "output_type": "stream",
     "text": [
      "Loading https://www.uscis.gov/sites/default/files/document/guides/M-654.pdf\n"
     ]
    }
   ],
   "source": [
    "# to load remote pdf, add the url to the function\n",
    "remotdata = load_document('https://www.uscis.gov/sites/default/files/document/guides/M-654.pdf')"
   ]
  },
  {
   "cell_type": "code",
   "execution_count": 8,
   "id": "3ee3ea28-1523-4575-8699-b000e2526f40",
   "metadata": {},
   "outputs": [
    {
     "name": "stdout",
     "output_type": "stream",
     "text": [
      "\u0018\u0018 \u0018\u0018Journal, and proceed to reconsider it. If after such \n",
      "Reconsideration two thirds of that house shall \n",
      "agree to pass the Bill, it shall be sent, together with the Objections, to the other house, by which it \n",
      "shall likewise be reconsidered, and if approved by two thirds of that house, it shall become a Law. But \n",
      "in all such Cases the Votes of both houses shall be \n",
      "determined by yeas and Nays, and the Names of \n",
      "the Persons voting for and against the Bill shall be entered on the Journal of each house respectively . \n",
      "If any Bill shall not be returned by the President \n",
      "within ten Days (Sundays excepted) after it shall \n",
      "have been presented to him, the Same shall be a \n",
      "Law, in like Manner as if he had signed it, unless \n",
      "the Congress by their Adjournment prevent its \n",
      "Return, in which Case it shall not be a Law.\n",
      "every Order, Resolution, or Vote to which \n",
      "the Concurrence of the Senate and house of \n",
      "Representatives may be necessary (except on a \n",
      "question of Adjournment) shall be presented to \n",
      "the President of the United States; and before the Same shall take effect, shall be approved by him, or \n",
      "being disapproved by him, shall be repassed by two thirds of the Senate and house of Representatives, \n",
      "according to the Rules and Limitations prescribed \n",
      "in the Case of a Bill.\n",
      "Section. 8.  The Congress shall have Power To \n",
      "lay and collect Taxes, Duties, Imposts and excises, \n",
      "to pay the Debts and provide for the common \n",
      "Defence and general Welfare of the United States; but all Duties, Imposts and excises shall be uniform \n",
      "throughout the United States;To borrow Money on the credit of the United \n",
      "States;\n",
      "To regulate Commerce with foreign Nations, \n",
      "and among the several States, and with the Indian \n",
      "Tribes;\n",
      "To establish an uniform Rule of Naturalization, \n",
      "and uniform Laws on the subject of Bankruptcies \n",
      "throughout the United States;\n",
      "To coin Money , regulate the Value thereof, and \n",
      "of foreign Coin, and fix the Standard of Weights \n",
      "and Measures;\n",
      "To provide for the Punishment of counterfeiting \n",
      "the Securities and current Coin of the United \n",
      "States;\n",
      "To establish Post Offices and post Roads;\n",
      "To promote the Progress of Science and useful \n",
      "Arts, by securing for limited Times to Authors and \n",
      "Inventors the exclusive Right to their respective \n",
      "Writings and Discoveries;\n",
      "To constitute Tribunals inferior to the supreme \n",
      "Court;\n",
      "To define and punish Piracies and Felonies \n",
      "committed on the high Seas, and Offences against \n",
      "the Law of Nations;\n",
      "To declare War, grant Letters of Marque and \n",
      "Reprisal, and make Rules concerning Captures on \n",
      "Land and Water;\n",
      "To raise and support Armies, but no \n",
      "Appropriation of Money to that Use shall be for a \n",
      "longer Term than two Years;\n",
      "To provide and maintain a Navy;\n",
      "To make Rules for the Government and \n",
      "Regulation of the land and naval Forces;\n"
     ]
    }
   ],
   "source": [
    "print(remotdata[10].page_content)"
   ]
  },
  {
   "cell_type": "code",
   "execution_count": 9,
   "id": "6cd3375c-69f5-4a22-8746-d248f1f32e7a",
   "metadata": {},
   "outputs": [
    {
     "name": "stdout",
     "output_type": "stream",
     "text": [
      "You have 19 pages in the data\n",
      "There are 3509 character in pg 13\n"
     ]
    }
   ],
   "source": [
    "#hOW MANY PAGES And characters in pg 13\n",
    "print(f'You have {len(data)} pages in the data')\n",
    "print(f'There are {len(data[13].page_content)} character in pg 13')"
   ]
  },
  {
   "cell_type": "markdown",
   "id": "d3103b43-e3e4-483c-b8ac-890a7f75a909",
   "metadata": {},
   "source": [
    "## Public Loaders"
   ]
  },
  {
   "cell_type": "code",
   "execution_count": 6,
   "id": "9b6fdd48-c3d0-4c9c-a282-2a0ba070dea3",
   "metadata": {},
   "outputs": [],
   "source": [
    "#pip install wikipedia -q"
   ]
  },
  {
   "cell_type": "code",
   "execution_count": 10,
   "id": "f6ff44cf-b13f-4d95-bb61-8c069e8b2e8f",
   "metadata": {},
   "outputs": [],
   "source": [
    "## a function that loads wikipedia article, \n",
    "# wikipedia, limit number of document to load with max docs\n",
    "def load_from_wikipedia(query, lang='en', load_max_docs=2):\n",
    "    from langchain.document_loaders import WikipediaLoader\n",
    "    loader = WikipediaLoader(query = query, lang=lang, load_max_docs=load_max_docs)\n",
    "    data = loader.load()\n",
    "    return data"
   ]
  },
  {
   "cell_type": "code",
   "execution_count": 11,
   "id": "aea36748-94bd-422b-afad-70dc634d9732",
   "metadata": {},
   "outputs": [
    {
     "name": "stdout",
     "output_type": "stream",
     "text": [
      "Generative Pre-trained Transformer 4 (GPT-4) is a multimodal large language model created by OpenAI, and the fourth in its series of GPT foundation models. It was initially released on March 14, 2023, and has been made publicly available via the paid chatbot product ChatGPT Plus, and via OpenAI's API.  As a transformer-based model, GPT-4 uses a paradigm where pre-training using both public data and \"data licensed from third-party providers\" is used to predict the next token. After this step, the model was then fine-tuned with reinforcement learning feedback from humans and AI for human alignment and policy compliance.: 2 Observers reported that the iteration of ChatGPT using GPT-4 was an improvement on the previous iteration based on GPT-3.5, with the caveat that GPT-4 retains some of the problems with earlier revisions. GPT-4 is also capable of taking images as input on ChatGPT. OpenAI has declined to reveal various technical details and statistics about GPT-4, such as the precise size of the model.\n",
      "\n",
      "\n",
      "== Background ==\n",
      " \n",
      "OpenAI introduced the first GPT model (GPT-1) in 2018, publishing a paper called \"Improving Language Understanding by Generative Pre-Training.\" It was based on the transformer architecture and trained on a large corpus of books. The next year, they introduced GPT-2, a larger model that could generate coherent text. In 2020, they introduced GPT-3, a model with 100 times as many parameters as GPT-2, that could perform various tasks with few examples. GPT-3 was further improved into GPT-3.5, which was used to create the chatbot product ChatGPT.\n",
      "Rumors claim that GPT-4 has 1.76 trillion parameters, which was first estimated by the speed it was running and by George Hotz.\n",
      "\n",
      "\n",
      "== Capabilities ==\n",
      "OpenAI stated that GPT-4 is \"more reliable, creative, and able to handle much more nuanced instructions than GPT-3.5.\" They produced two versions of GPT-4, with context windows of 8,192 and 32,768 tokens, a significant improvement over GPT-3.5 and GPT-3, which were limited to 4,096 and 2,049 tokens respectively. Some of the capabilities of GPT-4 were predicted by OpenAI before training it, although other capabilities remained hard to predict due to breaks in downstream scaling laws. Unlike its predecessors, GPT-4 is a multimodal model: it can take images as well as text as input; this gives it the ability to describe the humor in unusual images, summarize text from screenshots, and answer exam questions that contain diagrams.To gain further control over GPT-4, OpenAI introduced the \"system message\", a directive in natural language given to GPT-4 in order to specify its tone of voice and task. For example, the system message can instruct the model to \"be a Shakespearean pirate\", in which case it will respond in rhyming, Shakespearean prose, or request it to \"always write the output of [its] response in JSON\", in which case the model will do so, adding keys and values as it sees fit to match the structure of its reply. In the examples provided by OpenAI, GPT-4 refused to deviate from its system message despite requests to do otherwise by the user during the conversation.When instructed to do so, GPT-4 can interact with external interfaces. For example, the model could be instructed to enclose a query within <search></search> tags to perform a web search, the result of which would be inserted into the model's prompt to allow it to form a response. This allows the model to perform tasks beyond its normal text-prediction capabilities, such as using APIs, generating images, and accessing and summarizing webpages.A 2023 article in Nature stated programmers have found GPT-4 useful for assisting in coding tasks (despite its propensity for error), such as finding errors in existing code and suggesting optimizations to improve performance. The article quoted a biophysicist who found that the time he required to port one of his programs from MATLAB to Python went down from days to \"an hour or so\". On a test of 89 security scenarios, GPT-4\n"
     ]
    }
   ],
   "source": [
    "data = load_from_wikipedia('GPT-4')\n",
    "print(data[0].page_content)"
   ]
  },
  {
   "cell_type": "code",
   "execution_count": 10,
   "id": "b19ecf37-cb09-4584-84e0-3e1165cffb67",
   "metadata": {},
   "outputs": [],
   "source": [
    "#data = load_from_wikipedia('GPT-4', 'de') # german language code as second argument\n",
    "#print(data[0].page_content)"
   ]
  },
  {
   "cell_type": "markdown",
   "id": "6e2f6473-6b86-4fdd-abe0-fccc8beafa79",
   "metadata": {},
   "source": [
    "## Chunking or Splitting Document"
   ]
  },
  {
   "cell_type": "code",
   "execution_count": 51,
   "id": "3537943d-e337-411c-bcda-560b1a425c24",
   "metadata": {},
   "outputs": [],
   "source": [
    "## A function that rearrange document into chunks/ splits to regularise return texts by our AI model\n",
    "def chunk_data(data, chunk_size=256):\n",
    "    from langchain.text_splitter import RecursiveCharacterTextSplitter\n",
    "    text_splitter = RecursiveCharacterTextSplitter(chunk_size=chunk_size, chunk_overlap=0)\n",
    "    chunks =  text_splitter.split_documents(data)\n",
    "    return chunks"
   ]
  },
  {
   "cell_type": "code",
   "execution_count": 52,
   "id": "2911c0e0-6db4-4922-8539-53250ca5e58e",
   "metadata": {},
   "outputs": [
    {
     "name": "stdout",
     "output_type": "stream",
     "text": [
      "Loading files/us_constitution.pdf\n",
      "You have 19 pages in the data\n",
      "There are 3509 character in pg 13\n"
     ]
    }
   ],
   "source": [
    "# calling the most recent load document function to test the chunk data function\n",
    "\n",
    "data = load_document('files/us_constitution.pdf')\n",
    "print(f'You have {len(data)} pages in the data')\n",
    "print(f'There are {len(data[13].page_content)} character in pg 13')"
   ]
  },
  {
   "cell_type": "code",
   "execution_count": 14,
   "id": "84843e4e-c906-4d78-a244-2dec217d8a22",
   "metadata": {},
   "outputs": [
    {
     "name": "stdout",
     "output_type": "stream",
     "text": [
      "You have 247 chunks\n",
      "Jersey four, Pennsylvania eight, Delaw are one, Maryland  \n",
      "six, Virginia ten, North Carolina five, South Carolina five, \n",
      "and Georgia three.  \n",
      "When vacancies happen in the Representation from any\n"
     ]
    }
   ],
   "source": [
    "#Calling the chunk data function on our loaded document\n",
    "chunks = chunk_data(data)\n",
    "print(f'You have {len(chunks)} chunks')\n",
    "print(chunks[10].page_content)"
   ]
  },
  {
   "cell_type": "code",
   "execution_count": 15,
   "id": "c393eeaa-2b80-464f-a7ac-f62f38921ffe",
   "metadata": {},
   "outputs": [],
   "source": [
    "# function that calculate embedding cost beforehand\n",
    "def print_embedding_cost(texts):\n",
    "    import tiktoken\n",
    "    enc= tiktoken.encoding_for_model('text-embedding-ada-002')\n",
    "    total_tokens = sum([len(enc.encode(page.page_content)) for page in texts])\n",
    "    print(f'Total Tokens: {total_tokens}')\n",
    "    print(f'Embedding Cost in USD: {total_tokens/1000*0.0004:.6f}')"
   ]
  },
  {
   "cell_type": "code",
   "execution_count": 16,
   "id": "cab83ebd-e473-4b9b-9636-78892ad59c7e",
   "metadata": {},
   "outputs": [
    {
     "name": "stdout",
     "output_type": "stream",
     "text": [
      "Total Tokens: 12912\n",
      "Embedding Cost in USD: 0.005165\n"
     ]
    }
   ],
   "source": [
    "print_embedding_cost(chunks)"
   ]
  },
  {
   "cell_type": "code",
   "execution_count": 30,
   "id": "068a99f8-8e99-4497-b201-4406db92d01e",
   "metadata": {},
   "outputs": [],
   "source": [
    "#Embedd the document and upload to a database like pinecone to store the vectors"
   ]
  },
  {
   "cell_type": "markdown",
   "id": "ff61d0d0-b957-4698-8d70-0fabdd736de7",
   "metadata": {},
   "source": [
    "### Embedding and Uploading to a Vector Databases (Pinecone)"
   ]
  },
  {
   "cell_type": "code",
   "execution_count": 17,
   "id": "86189df7-16da-445c-b50e-ced4aa14b3e8",
   "metadata": {},
   "outputs": [],
   "source": [
    "#A function that creates embedding and uploads vectors into pinecone db\n",
    "def insert_or_fetch_embeddings(index_name):\n",
    "    import pinecone #pincone library\n",
    "    from langchain.vectorstores import Pinecone #Pincone class in langchain\n",
    "    from langchain.embeddings.openai import OpenAIEmbeddings #EMBEDs text to vectors\n",
    "\n",
    "    embeddings = OpenAIEmbeddings()\n",
    "\n",
    "    pinecone.init(api_key=os.environ.get('PINECONE_API_KEY'), environment=os.environ.get('PINECONE_ENV'))\n",
    "\n",
    "    if index_name in pinecone.list_indexes():\n",
    "        print(f'Index {index_name} already exists. Loading embeddings ...', end='')\n",
    "        vector_store = Pinecone.from_existing_index(index_name, embeddings)\n",
    "        print('Ok')\n",
    "    else:\n",
    "        print(f'Creating index {index_name} and embeddings ...', end='')\n",
    "        pinecone.create_index(index_name, dimension=1536, metric='cosine')\n",
    "        vector_store = Pinecone.from_documents(chunks, embeddings, index_name=index_name)\n",
    "        print('Ok')\n",
    "\n",
    "    return vector_store"
   ]
  },
  {
   "cell_type": "code",
   "execution_count": 18,
   "id": "346fde47-9763-443a-85b5-ea14cdaf1bfb",
   "metadata": {},
   "outputs": [],
   "source": [
    "## function that delete indexes, as a single account user, I can use more than 1 index at once\n",
    "\n",
    "def delete_pinecone_index(index_name='all'):\n",
    "    import pinecone\n",
    "    pinecone.init(api_key=os.environ.get('PINECONE_API_KEY'), environment=os.environ.get('PINECONE_ENV'))\n",
    "\n",
    "    if index_name == 'all':\n",
    "        indexes = pinecone.list_indexes()\n",
    "        print('Deleting all indexes...')\n",
    "        for index in indexes:\n",
    "            pinecone.delete_index(index)\n",
    "        print('Ok')\n",
    "    else:\n",
    "        print(f'Deleting index {index_name} ...', end=' ')\n",
    "        pinecone.delete_index(index_name)\n",
    "        print('Ok')\n",
    "        "
   ]
  },
  {
   "cell_type": "code",
   "execution_count": 19,
   "id": "41e6973f-5c61-4961-81b2-6a9db1008862",
   "metadata": {},
   "outputs": [
    {
     "name": "stderr",
     "output_type": "stream",
     "text": [
      "C:\\Users\\HP\\Desktop\\jupyter_ai\\venv\\lib\\site-packages\\pinecone\\index.py:4: TqdmExperimentalWarning: Using `tqdm.autonotebook.tqdm` in notebook mode. Use `tqdm.tqdm` instead to force console mode (e.g. in jupyter console)\n",
      "  from tqdm.autonotebook import tqdm\n"
     ]
    },
    {
     "name": "stdout",
     "output_type": "stream",
     "text": [
      "Deleting all indexes...\n",
      "Ok\n"
     ]
    }
   ],
   "source": [
    "## using the delete function to delete any existing index\n",
    "delete_pinecone_index()"
   ]
  },
  {
   "cell_type": "code",
   "execution_count": 53,
   "id": "4b171d39-4dc4-4ab5-969b-3ac63377e7dc",
   "metadata": {},
   "outputs": [
    {
     "name": "stdout",
     "output_type": "stream",
     "text": [
      "Creating index askadocument and embeddings ...Ok\n"
     ]
    }
   ],
   "source": [
    "index_name = 'askadocument'\n",
    "vector_store = insert_or_fetch_embeddings(index_name)"
   ]
  },
  {
   "cell_type": "markdown",
   "id": "ea3f28b9-fa77-4b8a-b993-573d65ff4888",
   "metadata": {},
   "source": [
    "### Asking and getting Answers"
   ]
  },
  {
   "cell_type": "code",
   "execution_count": 27,
   "id": "64721486-e6cf-4929-a793-120bf940c6da",
   "metadata": {},
   "outputs": [],
   "source": [
    "## function that queries the vectors to get answers from loaded document\n",
    "def ask_and_get_answers(vector_store, q):\n",
    "    from langchain.chains import RetrievalQA\n",
    "    from langchain.chat_models import ChatOpenAI\n",
    "\n",
    "    llm = ChatOpenAI(model='gpt-3.5-turbo', temperature=1)\n",
    "    \n",
    "    retriever = vector_store.as_retriever(search_type='similarity', search_kwargs={'k':3})\n",
    "    \n",
    "    chains = RetrievalQA.from_chain_type(llm=llm, chain_type=\"stuff\", retriever=retriever)\n",
    "    \n",
    "    answer = chains.run(q)\n",
    "    return answer"
   ]
  },
  {
   "cell_type": "code",
   "execution_count": 28,
   "id": "bd850d41-b0f7-44a9-b0b5-a3c57865555d",
   "metadata": {},
   "outputs": [
    {
     "name": "stdout",
     "output_type": "stream",
     "text": [
      "The document mentioned is the United States Constitution, which establishes the framework of the government and the rights and freedoms of its citizens. It consists of a preamble and several articles that outline the powers and responsibilities of the three branches of government (legislative, executive, and judicial) and the relationship between the federal government and the states. The document also includes the Bill of Rights, which is a set of amendments that guarantee individual liberties and limit the power of the government.\n"
     ]
    }
   ],
   "source": [
    "q = 'What is the whole document about?'\n",
    "answer = ask_and_get_answers(vector_store, q)\n",
    "print(answer)"
   ]
  },
  {
   "cell_type": "code",
   "execution_count": 32,
   "id": "99fcc1ce-d49e-42ca-b9c3-a682b8fb4cdc",
   "metadata": {},
   "outputs": [
    {
     "name": "stdout",
     "output_type": "stream",
     "text": [
      "Write Quit or Exit to quit\n"
     ]
    },
    {
     "name": "stdin",
     "output_type": "stream",
     "text": [
      "Question #1:  What is the first Amendment of the US Constitution?\n"
     ]
    },
    {
     "name": "stdout",
     "output_type": "stream",
     "text": [
      "\n",
      "Answer: The first Amendment of the US Constitution states that Congress shall make no law respecting an establishment of religion, or prohibiting the free exercise thereof; or abridging the freedom of speech, or of the press; or the right of the people peaceably to assemble, and to petition the Government for a redress of grievances.\n",
      "\n",
      "-------------------------------------------------- \n",
      "\n"
     ]
    },
    {
     "name": "stdin",
     "output_type": "stream",
     "text": [
      "Question #2:  Explain the concept of 'Federalism' as it is presented in the US Constitution\n"
     ]
    },
    {
     "name": "stdout",
     "output_type": "stream",
     "text": [
      "\n",
      "Answer: Federalism is the concept embodied in the US Constitution that establishes a division of powers between the national government and the state governments. It is the principle that there are certain powers and responsibilities that are specifically granted to the national government, while others are reserved for the individual states. This division of powers aims to strike a balance between a strong central government and the autonomy of individual states. The US Constitution establishes the federal government as a separate and distinct entity, with its own powers and authorities, while also recognizing the importance of state governments and their ability to handle local issues.\n",
      "\n",
      "-------------------------------------------------- \n",
      "\n"
     ]
    },
    {
     "name": "stdin",
     "output_type": "stream",
     "text": [
      "Question #3:  Describe the Bill of Rights\n"
     ]
    },
    {
     "name": "stdout",
     "output_type": "stream",
     "text": [
      "\n",
      "Answer: The Bill of Rights refers to the first ten amendments to the Constitution of the United States. These amendments were ratified on December 15, 1791. The purpose of the Bill of Rights is to establish and protect individual rights and freedoms. It includes provisions such as freedom of speech, religion, and the press (First Amendment), the right to bear arms (Second Amendment), protection against unreasonable searches and seizures (Fourth Amendment), the right to a fair trial (Sixth Amendment), and protection against cruel and unusual punishment (Eighth Amendment), among others. The Bill of Rights is a crucial component of the Constitution that ensures the protection of individual liberties.\n",
      "\n",
      "-------------------------------------------------- \n",
      "\n"
     ]
    },
    {
     "name": "stdin",
     "output_type": "stream",
     "text": [
      "Question #4:  Q1: how does the constitution address the issue of Presidential succession? Q2: Describe the bill of rights. Answer both questions\n"
     ]
    },
    {
     "name": "stdout",
     "output_type": "stream",
     "text": [
      "\n",
      "Answer: Q1: The Constitution addresses the issue of Presidential succession in Article II, Section 1. It establishes that in the event of the President's death, resignation, or removal from office, the Vice President will assume the role of President.\n",
      "\n",
      "Q2: The Bill of Rights is a collection of the first ten amendments to the United States Constitution. It was added to the Constitution to protect individual rights and limit the power of the federal government. The Bill of Rights guarantees essential freedoms such as freedom of speech, religion, and the press, the right to bear arms, and the right to a fair trial. It also protects against unreasonable searches and seizures, cruel and unusual punishment, and excessive bail or fines.\n",
      "\n",
      "-------------------------------------------------- \n",
      "\n"
     ]
    },
    {
     "name": "stdin",
     "output_type": "stream",
     "text": [
      "Question #5:  quit\n"
     ]
    },
    {
     "name": "stdout",
     "output_type": "stream",
     "text": [
      "Quitting ... bye bye!\n"
     ]
    }
   ],
   "source": [
    "#creating a loop to allow user ask continuous question from the document\n",
    "import time\n",
    "i = 1\n",
    "print('Write Quit or Exit to quit')\n",
    "while True:\n",
    "    q = input(f'Question #{i}: ')\n",
    "    i = i+1 \n",
    "    if q.lower() in ['quit', 'exit']:\n",
    "        print('Quitting ... bye bye!')\n",
    "        time.sleep(2)\n",
    "        break\n",
    "    answer = ask_and_get_answers(vector_store, q)\n",
    "    print(f'\\nAnswer: {answer}') ##customising for readability\n",
    "    print(f'\\n{\"-\" * 50} \\n')"
   ]
  },
  {
   "cell_type": "code",
   "execution_count": 49,
   "id": "ff41cc93-d8e4-455f-ab2e-6f5dc5d73e60",
   "metadata": {},
   "outputs": [
    {
     "name": "stdout",
     "output_type": "stream",
     "text": [
      "Deleting all indexes...\n",
      "Ok\n"
     ]
    }
   ],
   "source": [
    "delete_pinecone_index() ## doing this so i can create anothe index to pick from another document source"
   ]
  },
  {
   "cell_type": "code",
   "execution_count": 39,
   "id": "31447aec-6adb-43f9-8371-e1c508f9da23",
   "metadata": {},
   "outputs": [
    {
     "name": "stdout",
     "output_type": "stream",
     "text": [
      "Creating index chatgpt and embeddings ...Ok\n"
     ]
    }
   ],
   "source": [
    "## testing other document source like wikipedia\n",
    "#data = load_from_wikipedia('ChatGPT', 'ro') ## in romania language, my native short code doesnt exist yet\n",
    "#chunks = chunk_data(data)\n",
    "#index_name = 'chatgpt'\n",
    "#vector_store = insert_or_fetch_embeddings(index_name)"
   ]
  },
  {
   "cell_type": "code",
   "execution_count": 40,
   "id": "587d1b93-0196-4b47-9c4c-0cba4c5f765f",
   "metadata": {},
   "outputs": [
    {
     "name": "stdout",
     "output_type": "stream",
     "text": [
      "ChatGPT este un membru al familiei de modele de limbaj generative pre-antrenate (GPT). A fost reglat fin (o abordare a transferului de învățare) peste o versiune îmbunătățită a GPT-3 a OpenAI, cunoscută sub numele de „GPT-3.5”. Este un sistem care poate genera texte și poate fi folosit pentru a desfășura conversații cu utilizatori într-o varietate de domenii. Este utilizat în diverse scopuri, inclusiv pentru asistență și educație.\n"
     ]
    }
   ],
   "source": [
    "q = 'Ce este Chatgpt?'\n",
    "answer = ask_and_get_answers(vector_store, q)\n",
    "print(answer)"
   ]
  },
  {
   "cell_type": "markdown",
   "id": "d2a9b38e-f6a5-40d9-b169-92f94f37ae76",
   "metadata": {},
   "source": [
    "## Add Memory to App"
   ]
  },
  {
   "cell_type": "code",
   "execution_count": 64,
   "id": "08ea8f5d-3cca-4949-8e68-3a78fffb0463",
   "metadata": {},
   "outputs": [],
   "source": [
    "def ask_with_memory(vector_store, question, chat_history=[]):\n",
    "    from langchain.chains import ConversationalRetrievalChain\n",
    "    from langchain.chat_models import ChatOpenAI\n",
    "\n",
    "    llm = ChatOpenAI(temperature=1)\n",
    "    retriever = vector_store.as_retriever(search_type='similarity', search_kwargs={'k':3})\n",
    "\n",
    "    crc = ConversationalRetrievalChain.from_llm(llm, retriever)\n",
    "    result = crc({'question':question, 'chat_history': chat_history})\n",
    "    chat_history.append((question, result['answer']))\n",
    "\n",
    "    return result, chat_history"
   ]
  },
  {
   "cell_type": "code",
   "execution_count": 65,
   "id": "11de41ec-edcd-4e08-9fe1-4a3c0d96ac85",
   "metadata": {},
   "outputs": [
    {
     "name": "stdout",
     "output_type": "stream",
     "text": [
      "There are 27 amendments in the U.S. Constitution.\n",
      "[('How many amendments are in U.S. Constitution?', 'There are 27 amendments in the U.S. Constitution.')]\n"
     ]
    }
   ],
   "source": [
    "## asking with memory\n",
    "chat_history = []\n",
    "question = 'How many amendments are in U.S. Constitution?'\n",
    "result, chat_history = ask_with_memory(vector_store, question, chat_history)\n",
    "print(result['answer'])\n",
    "print(chat_history)"
   ]
  },
  {
   "cell_type": "code",
   "execution_count": 66,
   "id": "5171ea19-d791-45f6-9b1f-2ac203d38998",
   "metadata": {},
   "outputs": [
    {
     "name": "stdout",
     "output_type": "stream",
     "text": [
      "I'm sorry, but I don't have enough information to answer your question. Could you please provide more context or specify which number you are referring to?\n",
      "[('How many amendments are in U.S. Constitution?', 'There are 27 amendments in the U.S. Constitution.'), ('Multiply that number by 2?', \"I'm sorry, but I don't have enough information to answer your question. Could you please provide more context or specify which number you are referring to?\")]\n"
     ]
    }
   ],
   "source": [
    "question = 'Multiply that number by 2?'\n",
    "result, chat_history = ask_with_memory(vector_store, question, chat_history)\n",
    "print(result['answer'])\n",
    "print(chat_history)"
   ]
  },
  {
   "cell_type": "code",
   "execution_count": null,
   "id": "8bb252de-77d1-45ae-9474-abbe405ade8d",
   "metadata": {},
   "outputs": [],
   "source": []
  }
 ],
 "metadata": {
  "kernelspec": {
   "display_name": "Python 3 (ipykernel)",
   "language": "python",
   "name": "python3"
  },
  "language_info": {
   "codemirror_mode": {
    "name": "ipython",
    "version": 3
   },
   "file_extension": ".py",
   "mimetype": "text/x-python",
   "name": "python",
   "nbconvert_exporter": "python",
   "pygments_lexer": "ipython3",
   "version": "3.10.4"
  }
 },
 "nbformat": 4,
 "nbformat_minor": 5
}
